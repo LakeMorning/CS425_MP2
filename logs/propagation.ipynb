{
 "cells": [
  {
   "cell_type": "code",
   "execution_count": 1,
   "metadata": {},
   "outputs": [],
   "source": [
    "import csv\n",
    "from datetime import datetime"
   ]
  },
  {
   "cell_type": "markdown",
   "metadata": {},
   "source": [
    "## Configuration"
   ]
  },
  {
   "cell_type": "code",
   "execution_count": 2,
   "metadata": {},
   "outputs": [],
   "source": [
    "# # Put all log files in one directory, specifie the directory name here\n",
    "# dir_name = \"cp2log\"\n",
    "# # Put the number of the testing machines here\n",
    "# # e.g. if you used sp19-cs425-g10-03.cs.illinois.edu, add 3 to the list\n",
    "# machine_numbers = [2,3] \n",
    "# # Put the number of nodes running on each machine here\n",
    "# # e.g. if you opened 30 nodes in each machine, put 30\n",
    "# num_clients = 10"
   ]
  },
  {
   "cell_type": "markdown",
   "metadata": {},
   "source": [
    "## Collect Data"
   ]
  },
  {
   "cell_type": "code",
   "execution_count": 3,
   "metadata": {},
   "outputs": [
    {
     "name": "stdout",
     "output_type": "stream",
     "text": [
      "Processing machine 01\n",
      "Processing node 0\n",
      "Processing node 1\n",
      "Processing node 2\n",
      "Processing node 3\n",
      "Processing node 4\n",
      "Processing node 5\n",
      "Processing node 6\n",
      "Processing node 7\n",
      "Processing node 8\n",
      "Processing node 9\n",
      "Processing node 10\n",
      "Processing machine 02\n",
      "Processing node 0\n",
      "Processing node 1\n",
      "Processing node 2\n",
      "Processing node 3\n",
      "Processing node 4\n",
      "Processing node 5\n",
      "Processing node 6\n",
      "Processing node 7\n",
      "Processing node 8\n",
      "Processing node 9\n",
      "Processing node 10\n",
      "Processing machine 03\n",
      "Processing node 0\n",
      "Processing node 1\n",
      "Processing node 2\n",
      "Processing node 3\n",
      "Processing node 4\n",
      "Processing node 5\n",
      "Processing node 6\n",
      "Processing node 7\n",
      "Processing node 8\n",
      "Processing node 9\n",
      "Processing node 10\n",
      "Processing machine 04\n",
      "Processing node 0\n",
      "Processing node 1\n",
      "Processing node 2\n",
      "Processing node 3\n",
      "Processing node 4\n",
      "Processing node 5\n",
      "Processing node 6\n",
      "Processing node 7\n",
      "Processing node 8\n",
      "Processing node 9\n",
      "Processing node 10\n",
      "Processing machine 05\n",
      "Processing node 0\n",
      "Processing node 1\n",
      "Processing node 2\n",
      "Processing node 3\n",
      "Processing node 4\n",
      "Processing node 5\n",
      "Processing node 6\n",
      "Processing node 7\n",
      "Processing node 8\n",
      "Processing node 9\n",
      "Processing node 10\n",
      "Processing machine 06\n",
      "Processing node 0\n",
      "Processing node 1\n",
      "Processing node 2\n",
      "Processing node 3\n",
      "Processing node 4\n",
      "Processing node 5\n",
      "Processing node 6\n",
      "Processing node 7\n",
      "Processing node 8\n",
      "Processing node 9\n",
      "Processing node 10\n",
      "Processing machine 08\n",
      "Processing node 0\n",
      "Processing node 1\n",
      "Processing node 2\n",
      "Processing node 3\n",
      "Processing node 4\n",
      "Processing node 5\n",
      "Processing node 6\n",
      "Processing node 7\n",
      "Processing node 8\n",
      "Processing node 9\n",
      "Processing node 10\n",
      "Processing machine 09\n",
      "Processing node 0\n",
      "Processing node 1\n",
      "Processing node 2\n",
      "Processing node 3\n",
      "Processing node 4\n",
      "Processing node 5\n",
      "Processing node 6\n",
      "Processing node 7\n",
      "Processing node 8\n",
      "Processing node 9\n",
      "Processing node 10\n",
      "Processing machine 10\n",
      "Processing node 0\n",
      "Processing node 1\n",
      "Processing node 2\n",
      "Processing node 3\n",
      "Processing node 4\n",
      "Processing node 5\n",
      "Processing node 6\n",
      "Processing node 7\n",
      "Processing node 8\n",
      "Processing node 9\n",
      "Processing node 10\n",
      "Processing node 11\n"
     ]
    }
   ],
   "source": [
    "logs = []\n",
    "for j in [\"01\", \"02\", \"03\", \"04\", \"05\", \"06\",\"08\",\"09\",\"10\"]:\n",
    "    print(\"Processing machine\", j)\n",
    "    nodes = 11\n",
    "    if (j == \"10\"):\n",
    "        nodes = 12\n",
    "    for i in range(nodes):\n",
    "        print(\"Processing node\", i)\n",
    "        fname = \"sp19-cs425-g10-\"+j+\".cs.illinois.edu_\"+str(9000+i)+\".log\"\n",
    "        logs.append([])\n",
    "        with open(fname) as f:\n",
    "            reader = csv.reader(f, delimiter=' ')\n",
    "            for row in reader:\n",
    "                if (len(row) != 0 and row[0] == \"SWITCH\"):\n",
    "                    print(row)\n",
    "                    print(fname)\n",
    "                logs[i].append(row)"
   ]
  },
  {
   "cell_type": "markdown",
   "metadata": {},
   "source": [
    "## Group Transactions By Timestamps"
   ]
  },
  {
   "cell_type": "code",
   "execution_count": null,
   "metadata": {},
   "outputs": [],
   "source": [
    "transactionTimes = {}\n",
    "block_departure_times = {}\n",
    "block_arrival_times = {}\n",
    "transaction_commit_delays = {}\n",
    "\n",
    "for logfile in logs:\n",
    "    for line in logfile:\n",
    "        if len(line) > 0 and line[0] == \"LOG\":\n",
    "            tid = line[5]\n",
    "            ts_float = float(line[4])\n",
    "            if ts_float not in transactionTimes:\n",
    "                transactionTimes[ts_float] = []\n",
    "            timeObj = datetime.strptime(line[1] + \" \" + line[2], '%Y-%m-%d %H:%M:%S.%f')\n",
    "            timestamp = datetime.fromtimestamp(ts_float)\n",
    "            transactionTimes[ts_float].append((timeObj-timestamp).total_seconds())\n",
    "        if len(line) > 0 and line[0] == \"NEWBLOCK\":\n",
    "            block_id = line[3] + line[5]\n",
    "            timestamp = datetime.strptime(line[1] + \" \" + line[2], '%Y-%m-%d %H:%M:%S.%f')\n",
    "            block_departure_times[block_id] = timestamp\n",
    "        if len(line) > 0 and line[0] == \"RECEIVENEWBLOCK\":\n",
    "            block_id = line[3] + line[5]\n",
    "            if block_id not in block_arrival_times:\n",
    "                block_arrival_times[block_id] = []\n",
    "            timestamp = datetime.strptime(line[1] + \" \" + line[2], '%Y-%m-%d %H:%M:%S.%f')\n",
    "            block_arrival_times[block_id].append(timestamp)\n",
    "        if len(line) > 0 and line[0] == \"BLOCKTRANSACTION\":\n",
    "            ts_float = float(line[4])\n",
    "            block_id = line[1] + line[2]\n",
    "            block_departure_time = block_departure_times[block_id]\n",
    "            timestamp = datetime.fromtimestamp(ts_float)\n",
    "            transaction_commit_delays[ts_float] = (block_departure_time-timestamp).total_seconds()"
   ]
  },
  {
   "cell_type": "markdown",
   "metadata": {},
   "source": [
    "### Compute Block Propagation Delays"
   ]
  },
  {
   "cell_type": "code",
   "execution_count": null,
   "metadata": {},
   "outputs": [],
   "source": [
    "block_delays = {}\n",
    "for block in block_arrival_times:\n",
    "    for timestamp in block_arrival_times[block]:\n",
    "        if block not in block_delays:\n",
    "            block_delays[block] = []\n",
    "        block_delays[block].append((timestamp - block_departure_times[block]).total_seconds())"
   ]
  },
  {
   "cell_type": "code",
   "execution_count": null,
   "metadata": {},
   "outputs": [],
   "source": []
  },
  {
   "cell_type": "markdown",
   "metadata": {},
   "source": [
    "## Statistics"
   ]
  },
  {
   "cell_type": "code",
   "execution_count": null,
   "metadata": {},
   "outputs": [],
   "source": [
    "import numpy as np\n",
    "import statistics\n",
    "import matplotlib.pyplot as plt"
   ]
  },
  {
   "cell_type": "markdown",
   "metadata": {},
   "source": [
    "### Transactions"
   ]
  },
  {
   "cell_type": "code",
   "execution_count": null,
   "metadata": {},
   "outputs": [],
   "source": [
    "ts = list(transactionTimes.keys())\n",
    "delays = list(transactionTimes.values())\n",
    "max_delays = np.array([max(l) for l in delays])\n",
    "min_delays = np.array([min(l) for l in delays])\n",
    "median_delays = np.array([statistics.median(l) for l in delays])\n",
    "mean_delays = np.array([statistics.mean(l) for l in delays])\n",
    "log_counts = np.array([len(l) for l in delays])"
   ]
  },
  {
   "cell_type": "markdown",
   "metadata": {},
   "source": [
    "### Blocks"
   ]
  },
  {
   "cell_type": "code",
   "execution_count": null,
   "metadata": {},
   "outputs": [],
   "source": [
    "block_ts = list(block_delays.keys())\n",
    "block_delays_val = list(block_delays.values())\n",
    "block_max_delays = np.array([max(l) for l in block_delays_val])\n",
    "block_min_delays = np.array([min(l) for l in block_delays_val])\n",
    "block_median_delays = np.array([statistics.median(l) for l in block_delays_val])\n",
    "block_mean_delays = np.array([statistics.mean(l) for l in block_delays_val])\n",
    "block_log_counts = np.array([len(l)+1 for l in block_delays_val]) # Include the sending block"
   ]
  },
  {
   "cell_type": "markdown",
   "metadata": {},
   "source": [
    "## Plots"
   ]
  },
  {
   "cell_type": "markdown",
   "metadata": {},
   "source": [
    "### Transactions"
   ]
  },
  {
   "cell_type": "code",
   "execution_count": null,
   "metadata": {},
   "outputs": [],
   "source": [
    "# fig = plt.figure(figsize=(20,10))\n",
    "# plt.errorbar(range(len(ts)), median_delays, [median_delays - min_delays, max_delays - median_delays],\n",
    "#              fmt='.k', ecolor='gray', lw=1)\n",
    "# plt.xlabel(\"Transaction ID\", fontsize=12)\n",
    "# plt.ylabel(\"Time(s) and Transaction Delivery\", fontsize=12)\n",
    "\n",
    "# plt.plot(log_counts)\n",
    "# plt.savefig(\"errorbar.jpg\", dpi=fig.dpi)\n",
    "# plt.show()\n",
    "fig = plt.figure(figsize=(20,10))\n",
    "plt.errorbar(range(len(ts)), median_delays, [median_delays - min_delays, max_delays - median_delays],\n",
    "             fmt='.k', ecolor='gray', lw=1)\n",
    "plt.plot(log_counts)\n",
    "# plt.gca().legend((\"Delivered Node Count\"))\n",
    "plt.xlabel('Transaction ID', fontsize=12)\n",
    "plt.ylabel('Time(s) and Transaction Delivery', fontsize=14)\n",
    "plt.savefig(\"Propagation.jpg\", dpi=fig.dpi)\n",
    "plt.show()"
   ]
  },
  {
   "cell_type": "markdown",
   "metadata": {},
   "source": [
    "### Blocks"
   ]
  },
  {
   "cell_type": "code",
   "execution_count": null,
   "metadata": {
    "scrolled": true
   },
   "outputs": [],
   "source": [
    "fig = plt.figure(figsize=(20,10))\n",
    "plt.errorbar(range(len(block_ts)), block_median_delays, [block_median_delays - block_min_delays, block_max_delays - block_median_delays],\n",
    "             fmt='.k', ecolor='gray', lw=1)\n",
    "plt.xlabel('Node Index', fontsize=12)\n",
    "plt.ylabel('Time(s) and Node Delivery', fontsize=14)\n",
    "plt.plot(block_log_counts)\n",
    "plt.savefig(\"blockplot.jpg\", dpi=fig.dpi)\n",
    "plt.show()"
   ]
  },
  {
   "cell_type": "markdown",
   "metadata": {},
   "source": [
    "### Time To Commit"
   ]
  },
  {
   "cell_type": "markdown",
   "metadata": {},
   "source": [
    "Delays for transactions to appear in blocks"
   ]
  },
  {
   "cell_type": "code",
   "execution_count": null,
   "metadata": {},
   "outputs": [],
   "source": [
    "fig = plt.figure(figsize=(20,10))\n",
    "commit_delays_val = transaction_commit_delays.values()\n",
    "plt.xlabel('Transaction ID', fontsize=12)\n",
    "plt.ylabel('Time To Commit(s)', fontsize=14)\n",
    "plt.plot(range(len(commit_delays_val)), commit_delays_val)\n",
    "plt.savefig(\"timetocommit.jpg\", dpi=fig.dpi)\n",
    "plt.show()"
   ]
  },
  {
   "cell_type": "code",
   "execution_count": null,
   "metadata": {},
   "outputs": [],
   "source": [
    "np.unique(block_log_counts)"
   ]
  },
  {
   "cell_type": "code",
   "execution_count": null,
   "metadata": {},
   "outputs": [],
   "source": []
  },
  {
   "cell_type": "code",
   "execution_count": null,
   "metadata": {},
   "outputs": [],
   "source": []
  }
 ],
 "metadata": {
  "kernelspec": {
   "display_name": "Python 3",
   "language": "python",
   "name": "python3"
  },
  "language_info": {
   "codemirror_mode": {
    "name": "ipython",
    "version": 3
   },
   "file_extension": ".py",
   "mimetype": "text/x-python",
   "name": "python",
   "nbconvert_exporter": "python",
   "pygments_lexer": "ipython3",
   "version": "3.7.1"
  }
 },
 "nbformat": 4,
 "nbformat_minor": 2
}
